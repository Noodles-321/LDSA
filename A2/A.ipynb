{
 "cells": [
  {
   "cell_type": "code",
   "execution_count": 137,
   "metadata": {},
   "outputs": [],
   "source": [
    "from pyspark.sql import SparkSession\n",
    "\n",
    "# (8 cores, 16gb per machine) x 5 = 40 cores\n",
    "\n",
    "# New API\n",
    "spark_session = SparkSession\\\n",
    "        .builder\\\n",
    "        .master(\"spark://192.168.1.153:7077\") \\\n",
    "        .appName(\"A_LU\")\\\n",
    "        .config(\"spark.dynamicAllocation.enabled\", True)\\\n",
    "        .config(\"spark.shuffle.service.enabled\", True)\\\n",
    "        .config(\"spark.dynamicAllocation.executorIdleTimeout\",\"30s\")\\\n",
    "        .config(\"spark.executor.cores\",4)\\\n",
    "        .getOrCreate()\n",
    "        \n",
    "\n",
    "# Old API (RDD)\n",
    "sc = spark_session.sparkContext\n"
   ]
  },
  {
   "cell_type": "code",
   "execution_count": 138,
   "metadata": {},
   "outputs": [
    {
     "name": "stdout",
     "output_type": "stream",
     "text": [
      "2007723\n",
      "2007723\n",
      "True\n",
      "3\n",
      "3\n"
     ]
    }
   ],
   "source": [
    "# Question A.1\n",
    "rdd_en = sc.textFile(\"hdfs://192.168.1.153:9000/europarl/europarl-v7.fr-en.en\").cache()\n",
    "rdd_fr = sc.textFile(\"hdfs://192.168.1.153:9000/europarl/europarl-v7.fr-en.fr\").cache()\n",
    "count_en = rdd_en.count()\n",
    "count_fr = rdd_fr.count()\n",
    "print(count_en)\n",
    "print(count_fr)\n",
    "print(count_en == count_fr)\n",
    "print(rdd_en.getNumPartitions())\n",
    "print(rdd_fr.getNumPartitions())"
   ]
  },
  {
   "cell_type": "code",
   "execution_count": 139,
   "metadata": {
    "scrolled": false
   },
   "outputs": [
    {
     "name": "stdout",
     "output_type": "stream",
     "text": [
      "[['resumption', 'of', 'the', 'session'], ['i', 'declare', 'resumed', 'the', 'session', 'of', 'the', 'european', 'parliament', 'adjourned', 'on', 'friday', '17', 'december', '1999,', 'and', 'i', 'would', 'like', 'once', 'again', 'to', 'wish', 'you', 'a', 'happy', 'new', 'year', 'in', 'the', 'hope', 'that', 'you', 'enjoyed', 'a', 'pleasant', 'festive', 'period.'], ['although,', 'as', 'you', 'will', 'have', 'seen,', 'the', 'dreaded', \"'millennium\", \"bug'\", 'failed', 'to', 'materialise,', 'still', 'the', 'people', 'in', 'a', 'number', 'of', 'countries', 'suffered', 'a', 'series', 'of', 'natural', 'disasters', 'that', 'truly', 'were', 'dreadful.'], ['you', 'have', 'requested', 'a', 'debate', 'on', 'this', 'subject', 'in', 'the', 'course', 'of', 'the', 'next', 'few', 'days,', 'during', 'this', 'part-session.'], ['in', 'the', 'meantime,', 'i', 'should', 'like', 'to', 'observe', 'a', \"minute'\", 's', 'silence,', 'as', 'a', 'number', 'of', 'members', 'have', 'requested,', 'on', 'behalf', 'of', 'all', 'the', 'victims', 'concerned,', 'particularly', 'those', 'of', 'the', 'terrible', 'storms,', 'in', 'the', 'various', 'countries', 'of', 'the', 'european', 'union.'], ['please', 'rise,', 'then,', 'for', 'this', \"minute'\", 's', 'silence.'], ['(the', 'house', 'rose', 'and', 'observed', 'a', \"minute'\", 's', 'silence)'], ['madam', 'president,', 'on', 'a', 'point', 'of', 'order.'], ['you', 'will', 'be', 'aware', 'from', 'the', 'press', 'and', 'television', 'that', 'there', 'have', 'been', 'a', 'number', 'of', 'bomb', 'explosions', 'and', 'killings', 'in', 'sri', 'lanka.'], ['one', 'of', 'the', 'people', 'assassinated', 'very', 'recently', 'in', 'sri', 'lanka', 'was', 'mr', 'kumar', 'ponnambalam,', 'who', 'had', 'visited', 'the', 'european', 'parliament', 'just', 'a', 'few', 'months', 'ago.']]\n",
      "[['reprise', 'de', 'la', 'session'], ['je', 'déclare', 'reprise', 'la', 'session', 'du', 'parlement', 'européen', 'qui', 'avait', 'été', 'interrompue', 'le', 'vendredi', '17', 'décembre', 'dernier', 'et', 'je', 'vous', 'renouvelle', 'tous', 'mes', 'vux', 'en', 'espérant', 'que', 'vous', 'avez', 'passé', 'de', 'bonnes', 'vacances.'], ['comme', 'vous', 'avez', 'pu', 'le', 'constater,', 'le', 'grand', '\"bogue', 'de', \"l'an\", '2000\"', 'ne', \"s'est\", 'pas', 'produit.', 'en', 'revanche,', 'les', 'citoyens', \"d'un\", 'certain', 'nombre', 'de', 'nos', 'pays', 'ont', 'été', 'victimes', 'de', 'catastrophes', 'naturelles', 'qui', 'ont', 'vraiment', 'été', 'terribles.'], ['vous', 'avez', 'souhaité', 'un', 'débat', 'à', 'ce', 'sujet', 'dans', 'les', 'prochains', 'jours,', 'au', 'cours', 'de', 'cette', 'période', 'de', 'session.'], ['en', 'attendant,', 'je', 'souhaiterais,', 'comme', 'un', 'certain', 'nombre', 'de', 'collègues', 'me', \"l'ont\", 'demandé,', 'que', 'nous', 'observions', 'une', 'minute', 'de', 'silence', 'pour', 'toutes', 'les', 'victimes,', 'des', 'tempêtes', 'notamment,', 'dans', 'les', 'différents', 'pays', 'de', \"l'union\", 'européenne', 'qui', 'ont', 'été', 'touchés.'], ['je', 'vous', 'invite', 'à', 'vous', 'lever', 'pour', 'cette', 'minute', 'de', 'silence.'], ['(le', 'parlement,', 'debout,', 'observe', 'une', 'minute', 'de', 'silence)'], ['madame', 'la', 'présidente,', \"c'est\", 'une', 'motion', 'de', 'procédure.'], ['vous', 'avez', 'probablement', 'appris', 'par', 'la', 'presse', 'et', 'par', 'la', 'télévision', 'que', 'plusieurs', 'attentats', 'à', 'la', 'bombe', 'et', 'crimes', 'ont', 'été', 'perpétrés', 'au', 'sri', 'lanka.'], [\"l'une\", 'des', 'personnes', 'qui', 'vient', \"d'être\", 'assassinée', 'au', 'sri', 'lanka', 'est', 'm.', 'kumar', 'ponnambalam,', 'qui', 'avait', 'rendu', 'visite', 'au', 'parlement', 'européen', 'il', 'y', 'a', 'quelques', 'mois', 'à', 'peine.']]\n",
      "True\n"
     ]
    }
   ],
   "source": [
    "# Question A.2\n",
    "def tokenise(rdd):\n",
    "    return rdd.map(lambda line: line.lower().split(' '))\n",
    "\n",
    "# lines_en = lines_en.map(lambda line: line.lower().split(' '))\n",
    "lines_en = tokenise(rdd_en).cache()\n",
    "lines_fr = tokenise(rdd_fr).cache()\n",
    "print(lines_en.take(10))\n",
    "print(lines_fr.take(10))\n",
    "print(lines_en.count() == lines_fr.count())"
   ]
  },
  {
   "cell_type": "code",
   "execution_count": 140,
   "metadata": {},
   "outputs": [
    {
     "name": "stdout",
     "output_type": "stream",
     "text": [
      "[('the', 3846086), ('of', 1823194), ('to', 1692082), ('and', 1413924), ('in', 1191334), ('that', 877203), ('a', 850612), ('is', 832094), ('for', 584680), ('we', 578720)]\n",
      "[('de', 2908562), ('la', 1890061), ('et', 1313600), ('le', 1260986), ('les', 1147249), ('à', 1100987), ('des', 1058652), ('que', 856810), ('en', 772241), ('nous', 607262)]\n"
     ]
    }
   ],
   "source": [
    "# Question A.3\n",
    "def word_count(rdd):\n",
    "    return rdd.flatMap(lambda line: line)\\\n",
    "                .map(lambda word: (word,1))\\\n",
    "                .reduceByKey(lambda a, b : a + b)\\\n",
    "                .sortBy(lambda a: a[1], False)\n",
    "            \n",
    "wordCount_en = word_count(lines_en)\n",
    "print(wordCount_en.take(10))\n",
    "wordCount_fr = word_count(lines_fr)\n",
    "print(wordCount_fr.take(10))"
   ]
  },
  {
   "cell_type": "code",
   "execution_count": 141,
   "metadata": {},
   "outputs": [
    {
     "name": "stdout",
     "output_type": "stream",
     "text": [
      "[(('the', 'le'), 8074), (('is', 'est'), 7426), (('the', 'la'), 4814), (('we', 'nous'), 4014), (('debate', 'débat'), 3963), (('closed.', 'clos.'), 3889), (('i', 'je'), 3588), (('of', 'de'), 3092), (('(applause)', '(applaudissements)'), 2936), (('the', 'les'), 1903)]\n"
     ]
    }
   ],
   "source": [
    "# Question A.4\n",
    "en_1 = lines_en.zipWithIndex()\n",
    "fr_1 = lines_fr.zipWithIndex()\n",
    "en_2 = en_1.map(lambda x: (x[1], x[0]))\n",
    "fr_2 = fr_1.map(lambda x: (x[1], x[0]))\n",
    "ef_3 = en_2.join(fr_2)\n",
    "ef_4 = ef_3.values().filter(lambda line: len(line) == 2)\n",
    "ef_5 = ef_4.filter(lambda line: len(line[0]) < 10)\n",
    "ef_6 = ef_5.filter(lambda line: len(line[0]) == len(line[1]))\n",
    "ef_7 = ef_6.flatMap(lambda line: zip(line[0], line[1]))\n",
    "ef_8 = ef_7.map(lambda pair: (pair, 1))\\\n",
    "            .reduceByKey(lambda a, b : a + b)\\\n",
    "            .sortBy(lambda a: a[1], False)\n",
    "print(ef_8.take(10))"
   ]
  },
  {
   "cell_type": "code",
   "execution_count": 143,
   "metadata": {},
   "outputs": [],
   "source": [
    "# release the cores for another application!\n",
    "sc.stop()"
   ]
  }
 ],
 "metadata": {
  "kernelspec": {
   "display_name": "Python 3",
   "language": "python",
   "name": "python3"
  },
  "language_info": {
   "codemirror_mode": {
    "name": "ipython",
    "version": 3
   },
   "file_extension": ".py",
   "mimetype": "text/x-python",
   "name": "python",
   "nbconvert_exporter": "python",
   "pygments_lexer": "ipython3",
   "version": "3.6.7"
  }
 },
 "nbformat": 4,
 "nbformat_minor": 2
}
